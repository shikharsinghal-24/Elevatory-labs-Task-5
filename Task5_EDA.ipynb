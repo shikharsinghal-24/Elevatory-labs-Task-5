{
 "cells": [
  {
   "cell_type": "code",
   "execution_count": null,
   "id": "408150d5-703f-44d4-8ed5-b5a073b2ac00",
   "metadata": {},
   "outputs": [],
   "source": []
  },
  {
   "cell_type": "code",
   "execution_count": null,
   "id": "a18988b1",
   "metadata": {},
   "outputs": [],
   "source": [
    "import pandas as pd\n",
    "import matplotlib.pyplot as plt\n",
    "import seaborn as sns\n",
    "%matplotlib inline"
   ]
  },
  {
   "cell_type": "code",
   "execution_count": null,
   "id": "1387850d",
   "metadata": {},
   "outputs": [],
   "source": [
    "df = pd.read_csv('train.csv')\n",
    "df.head()"
   ]
  },
  {
   "cell_type": "code",
   "execution_count": null,
   "id": "d29ce9a1",
   "metadata": {},
   "outputs": [],
   "source": [
    "df.info()"
   ]
  },
  {
   "cell_type": "code",
   "execution_count": null,
   "id": "5d025d97",
   "metadata": {},
   "outputs": [],
   "source": [
    "df.describe()"
   ]
  },
  {
   "cell_type": "code",
   "execution_count": null,
   "id": "bef5aae3",
   "metadata": {},
   "outputs": [],
   "source": [
    "df.isnull().sum()"
   ]
  },
  {
   "cell_type": "markdown",
   "id": "2aef184a",
   "metadata": {},
   "source": [
    "## Univariate Analysis"
   ]
  },
  {
   "cell_type": "code",
   "execution_count": null,
   "id": "9137d8d6",
   "metadata": {},
   "outputs": [],
   "source": [
    "df['Age'].hist(bins=30, edgecolor='black')\n",
    "plt.title('Age Distribution')\n",
    "plt.xlabel('Age')\n",
    "plt.ylabel('Frequency')\n",
    "plt.show()"
   ]
  },
  {
   "cell_type": "code",
   "execution_count": null,
   "id": "4e0235dc",
   "metadata": {},
   "outputs": [],
   "source": [
    "sns.boxplot(x='Fare', data=df)\n",
    "plt.title('Fare Distribution')\n",
    "plt.show()"
   ]
  },
  {
   "cell_type": "code",
   "execution_count": null,
   "id": "2eaa7edf",
   "metadata": {},
   "outputs": [],
   "source": [
    "sns.countplot(x='Sex', data=df)\n",
    "plt.title('Sex Count')\n",
    "plt.show()"
   ]
  },
  {
   "cell_type": "markdown",
   "id": "203ec82b",
   "metadata": {},
   "source": [
    "## Bivariate Analysis"
   ]
  },
  {
   "cell_type": "code",
   "execution_count": null,
   "id": "95b20cc6",
   "metadata": {},
   "outputs": [],
   "source": [
    "sns.boxplot(x='Survived', y='Fare', data=df)\n",
    "plt.title('Fare vs Survived')\n",
    "plt.show()"
   ]
  },
  {
   "cell_type": "code",
   "execution_count": null,
   "id": "64a463df",
   "metadata": {},
   "outputs": [],
   "source": [
    "sns.boxplot(x='Survived', y='Age', data=df)\n",
    "plt.title('Age vs Survived')\n",
    "plt.show()"
   ]
  },
  {
   "cell_type": "markdown",
   "id": "ba2f37c9",
   "metadata": {},
   "source": [
    "## Multivariate Analysis"
   ]
  },
  {
   "cell_type": "code",
   "execution_count": null,
   "id": "8f43bff9",
   "metadata": {},
   "outputs": [],
   "source": [
    "plt.figure(figsize=(10,8))\n",
    "sns.heatmap(df.corr(), annot=True, cmap='coolwarm')\n",
    "plt.title('Correlation Heatmap')\n",
    "plt.show()"
   ]
  },
  {
   "cell_type": "code",
   "execution_count": null,
   "id": "3fedbaeb",
   "metadata": {},
   "outputs": [],
   "source": [
    "sns.pairplot(df, hue='Survived')\n",
    "plt.show()"
   ]
  },
  {
   "cell_type": "markdown",
   "id": "0da640f4",
   "metadata": {},
   "source": [
    "## Final Observations\n",
    "- Female passengers had a higher survival rate than male passengers.\n",
    "- Passengers who paid higher fares had better chances of survival.\n",
    "- Young children had higher survival rates.\n",
    "- Strong correlation found between Pclass and Fare."
   ]
  },
  {
   "cell_type": "markdown",
   "id": "e3cefe2b",
   "metadata": {},
   "source": [
    "## Interview Questions and Answers\n",
    "**1. What is EDA and why is it important?**  \n",
    "EDA helps in understanding patterns, anomalies, and structure in the data before applying models.\n",
    "\n",
    "**2. Which plots do you use to check correlation?**  \n",
    "Heatmap and Pairplot.\n",
    "\n",
    "**3. How do you handle skewed data?**  \n",
    "Log transformation, Box-Cox, or square root transformation.\n",
    "\n",
    "**4. How to detect multicollinearity?**  \n",
    "Correlation matrix or VIF (Variance Inflation Factor).\n",
    "\n",
    "**5. What are univariate, bivariate, and multivariate analyses?**  \n",
    "- Univariate: Single variable (e.g., Age)  \n",
    "- Bivariate: Two variables (e.g., Age vs Survival)  \n",
    "- Multivariate: More than two variables (e.g., Heatmap)\n",
    "\n",
    "**6. Difference between heatmap and pairplot?**  \n",
    "- Heatmap: Correlation coefficients  \n",
    "- Pairplot: Scatterplots + distribution\n",
    "\n",
    "**7. How do you summarize your insights?**  \n",
    "Use bullet points to highlight key trends and patterns."
   ]
  }
 ],
 "metadata": {
  "kernelspec": {
   "display_name": "Python 3 (ipykernel)",
   "language": "python",
   "name": "python3"
  },
  "language_info": {
   "codemirror_mode": {
    "name": "ipython",
    "version": 3
   },
   "file_extension": ".py",
   "mimetype": "text/x-python",
   "name": "python",
   "nbconvert_exporter": "python",
   "pygments_lexer": "ipython3",
   "version": "3.13.3"
  }
 },
 "nbformat": 4,
 "nbformat_minor": 5
}
